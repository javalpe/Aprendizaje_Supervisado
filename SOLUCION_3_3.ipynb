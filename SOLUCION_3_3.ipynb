{
  "nbformat": 4,
  "nbformat_minor": 0,
  "metadata": {
    "colab": {
      "name": "SOLUCION_3_3.ipynb",
      "provenance": [],
      "collapsed_sections": [],
      "toc_visible": true
    },
    "kernelspec": {
      "name": "python3",
      "display_name": "Python 3"
    }
  },
  "cells": [
    {
      "cell_type": "markdown",
      "metadata": {
        "id": "IyutmHJlYAr3",
        "colab_type": "text"
      },
      "source": [
        "#Problema del negocio"
      ]
    },
    {
      "cell_type": "markdown",
      "metadata": {
        "id": "H0JjoeFgYGZ-",
        "colab_type": "text"
      },
      "source": [
        "El caso de estudio está enfocado en una aseguradora que evalúa pólizas vehicualres para lo cual se ha generado un dataset de **64 695 clientes** caracterizados con un total de **20 variables** entre categóricas y numéricas.\n",
        "\n",
        "En el presente caso nos enfrentamos a un problema de **clasificación** donde se busca predecir una variable denominada **target** de caracter **binario**:\n",
        "\n",
        "1.   Siniestroso: Un cliente cuyas características predicen con una alta probabilidad que podría tener un accidente vehicular\n",
        "2.   No Siniestroso: Un cliente cuyas características predicen que es muy poco probable que sufra un accidente vehicular\n",
        "\n",
        "Por el **tipo de target binario** y el problema de **clasificación** se ha decidido abordar el presente problema con un **modelo de regresión logística** ya que utiliza una función **sigmoide** que devuelve solo **dos valores de predicción** en función a un punto de corte.\n"
      ]
    },
    {
      "cell_type": "markdown",
      "metadata": {
        "id": "Z_EubyTSWm0T",
        "colab_type": "text"
      },
      "source": [
        "#I. Entendiendo los datos"
      ]
    },
    {
      "cell_type": "markdown",
      "metadata": {
        "id": "3Kc70rRh9Hp6",
        "colab_type": "text"
      },
      "source": [
        "He subido el dataset a mi [github](https://github.com/javalpe/datasets) para poder leer el archivo en formato **raw**"
      ]
    },
    {
      "cell_type": "code",
      "metadata": {
        "id": "6GuWvBWhsToT",
        "colab_type": "code",
        "colab": {}
      },
      "source": [
        "url=\"https://raw.githubusercontent.com/javalpe/datasets/master/siniestros_data.csv\""
      ],
      "execution_count": 0,
      "outputs": []
    },
    {
      "cell_type": "markdown",
      "metadata": {
        "id": "avsqOnST9ii3",
        "colab_type": "text"
      },
      "source": [
        "He cargado la librería **pandas** para leer el archivo csv"
      ]
    },
    {
      "cell_type": "code",
      "metadata": {
        "id": "1XOfJSXitAY1",
        "colab_type": "code",
        "colab": {
          "base_uri": "https://localhost:8080/",
          "height": 71
        },
        "outputId": "dcf29378-85c1-4760-a85c-68abf6522826"
      },
      "source": [
        "import pandas as pd"
      ],
      "execution_count": 2,
      "outputs": [
        {
          "output_type": "stream",
          "text": [
            "/usr/local/lib/python3.6/dist-packages/sklearn/externals/six.py:31: DeprecationWarning: The module is deprecated in version 0.21 and will be removed in version 0.23 since we've dropped support for Python 2.7. Please rely on the official version of six (https://pypi.org/project/six/).\n",
            "  \"(https://pypi.org/project/six/).\", DeprecationWarning)\n"
          ],
          "name": "stderr"
        }
      ]
    },
    {
      "cell_type": "markdown",
      "metadata": {
        "id": "vsTgs1eT9wKP",
        "colab_type": "text"
      },
      "source": [
        "Ahora guardo el dataframe del archivo en una variable denominada **datos**"
      ]
    },
    {
      "cell_type": "code",
      "metadata": {
        "id": "hEnlgUsltFLy",
        "colab_type": "code",
        "colab": {}
      },
      "source": [
        "datos=pd.read_csv(url)"
      ],
      "execution_count": 0,
      "outputs": []
    },
    {
      "cell_type": "markdown",
      "metadata": {
        "id": "yfdJKoBv-Gvw",
        "colab_type": "text"
      },
      "source": [
        "A modo de comprobación ejecuto el método **shape** para visualizar el **número de filas y columnas**"
      ]
    },
    {
      "cell_type": "code",
      "metadata": {
        "id": "OLL0grGgtPcX",
        "colab_type": "code",
        "colab": {
          "base_uri": "https://localhost:8080/",
          "height": 34
        },
        "outputId": "e4545686-4d3a-4115-b0d9-e7f573eaf8ea"
      },
      "source": [
        "datos.shape"
      ],
      "execution_count": 4,
      "outputs": [
        {
          "output_type": "execute_result",
          "data": {
            "text/plain": [
              "(64695, 21)"
            ]
          },
          "metadata": {
            "tags": []
          },
          "execution_count": 4
        }
      ]
    },
    {
      "cell_type": "markdown",
      "metadata": {
        "id": "PT61vbTP-UiB",
        "colab_type": "text"
      },
      "source": [
        "Ahora ejecuto el método **info** para visualizar el tipo de dato en cada columna"
      ]
    },
    {
      "cell_type": "code",
      "metadata": {
        "id": "8OmMpyTT5dlx",
        "colab_type": "code",
        "colab": {
          "base_uri": "https://localhost:8080/",
          "height": 459
        },
        "outputId": "17b33500-02d2-4e12-ca11-9e3a5b2c5cff"
      },
      "source": [
        "datos.info()"
      ],
      "execution_count": 5,
      "outputs": [
        {
          "output_type": "stream",
          "text": [
            "<class 'pandas.core.frame.DataFrame'>\n",
            "RangeIndex: 64695 entries, 0 to 64694\n",
            "Data columns (total 21 columns):\n",
            "Unnamed: 0         64695 non-null int64\n",
            "Ubicacion          64695 non-null object\n",
            "Uso                64695 non-null object\n",
            "Clase              64695 non-null object\n",
            "Asientos           64695 non-null int64\n",
            "Canal_E            64695 non-null object\n",
            "PERDIDA_3          64695 non-null float64\n",
            "OK_3               64695 non-null float64\n",
            "NUM_TC_3           64695 non-null int64\n",
            "MAX_LINEA_SOL_3    64695 non-null float64\n",
            "MAX_LINEA_DOL_3    64695 non-null float64\n",
            "Edad               64695 non-null int64\n",
            "EdadAuto           64695 non-null int64\n",
            "Gama               64695 non-null object\n",
            "sexo_Mod           64695 non-null object\n",
            "sueldo_bruto       64695 non-null int64\n",
            "target             64695 non-null object\n",
            "Renov_SOAT         64695 non-null int64\n",
            "media_ok           64695 non-null float64\n",
            "deuda_dol          64695 non-null float64\n",
            "deuda_sol          64695 non-null float64\n",
            "dtypes: float64(7), int64(7), object(7)\n",
            "memory usage: 10.4+ MB\n"
          ],
          "name": "stdout"
        }
      ]
    },
    {
      "cell_type": "markdown",
      "metadata": {
        "id": "65LmYs19_OFA",
        "colab_type": "text"
      },
      "source": [
        "Se pueden extraer los siguientes hallazgos: \n",
        "\n",
        "1.   Varias columnas cuentan con datos de tipo '**categóricos**. Estos datos serán transformados más adelante a tipo numérico\n",
        "2.   **No existen valores nulos o perdidos** "
      ]
    },
    {
      "cell_type": "markdown",
      "metadata": {
        "id": "oytkkGscWyVw",
        "colab_type": "text"
      },
      "source": [
        "#II. Preprocesamiento de los datos"
      ]
    },
    {
      "cell_type": "code",
      "metadata": {
        "id": "stR93B5NtVNK",
        "colab_type": "code",
        "colab": {
          "base_uri": "https://localhost:8080/",
          "height": 68
        },
        "outputId": "599e90bb-13d5-461e-abe0-0a7315ec17ee"
      },
      "source": [
        "datos.target.value_counts()"
      ],
      "execution_count": 6,
      "outputs": [
        {
          "output_type": "execute_result",
          "data": {
            "text/plain": [
              "No_Siniestroso    64226\n",
              "Siniestroso         469\n",
              "Name: target, dtype: int64"
            ]
          },
          "metadata": {
            "tags": []
          },
          "execution_count": 6
        }
      ]
    },
    {
      "cell_type": "code",
      "metadata": {
        "id": "svIMrkb6uO4m",
        "colab_type": "code",
        "colab": {}
      },
      "source": [
        "datos[\"target\"] = datos[\"target\"].map({\"No_Siniestroso\":0,\"Siniestroso\":1})"
      ],
      "execution_count": 0,
      "outputs": []
    },
    {
      "cell_type": "markdown",
      "metadata": {
        "id": "gs911cKg-kkW",
        "colab_type": "text"
      },
      "source": [
        "En el caso de la variable **Ubicacion**, acorde a una [nota periodística](https://rpp.pe/lima/actualidad/lima-ocho-distritos-registran-mayor-cantidad-de-accidentes-de-transito-noticia-976292?ref=rpp), debemos ponderar la ubicación según la cantidad potencial de accidentes en la zona de Lima"
      ]
    },
    {
      "cell_type": "code",
      "metadata": {
        "id": "EvDmf544-WlZ",
        "colab_type": "code",
        "colab": {}
      },
      "source": [
        "datos[\"Ubicacion\"] = datos[\"Ubicacion\"].map({\"LimaModerna1\":1,\"LimaEste\":2,\"LimaModerna2\":1,\"LimaCentro\":3,\"Provincia\":1,\"LimaSur\":4,\"LimaNorte\":4,\"Callao\":2,\"LimaND\":1,\"LimaProvincia\":1})"
      ],
      "execution_count": 0,
      "outputs": []
    },
    {
      "cell_type": "markdown",
      "metadata": {
        "id": "4e-vDdQKBSd0",
        "colab_type": "text"
      },
      "source": [
        "En el caso de la variable **Uso** distinguimos el particular o personal del transporte. Finalmente cualquier uso distintos a estos se codificará como cero (0)"
      ]
    },
    {
      "cell_type": "code",
      "metadata": {
        "id": "oyVzOFtrBptq",
        "colab_type": "code",
        "colab": {}
      },
      "source": [
        "datos[\"Uso\"]=datos[\"Uso\"].map({\"PARTICULAR\":1,\"CARGA / TRANSPORTE\":2,\"TAXI\":2,\"ESCOLAR\":0,\"PERSONAL\":1,\"PUBLICO\":0,\"INTERPROVINCIAL\":0})"
      ],
      "execution_count": 0,
      "outputs": []
    },
    {
      "cell_type": "markdown",
      "metadata": {
        "id": "ARfB48uksFQX",
        "colab_type": "text"
      },
      "source": [
        "Para la variable **Clase** tomaremos como referencia **AFOCAT** que [reporta](https://www.afocatlimam.org/Principal.php) el indice de siniestralidad de acuerdo al tipo de vehículo"
      ]
    },
    {
      "cell_type": "code",
      "metadata": {
        "id": "z8frwteXsm0A",
        "colab_type": "code",
        "colab": {}
      },
      "source": [
        "datos[\"Clase\"]=datos[\"Clase\"].map({\"AUTOMOVIL\":0.3144,\"CAMIONETA RURAL\":0.3265,\"CAMIONETA PICK UP\":0,\"STATION WAGON\":0.0854,\"CAMIONETA PANEL\":0,\"CAMION\":0,\"OTROS\":0})"
      ],
      "execution_count": 0,
      "outputs": []
    },
    {
      "cell_type": "markdown",
      "metadata": {
        "id": "9JO3Bp5nz2vS",
        "colab_type": "text"
      },
      "source": [
        "Para la variable **sexo_Mod** tomaremos como referencia el [informe](https://www.inei.gob.pe/media/MenuRecursivo/boletines/02-informe-tecnico-n02_estadisticas-seguridad-ciudadana_set2018-feb2019.pdf) de seguridad ciudadana de **INEI** que ilustra con datos una **mayor incidencia de accidentes en hombres que mujeres**"
      ]
    },
    {
      "cell_type": "code",
      "metadata": {
        "id": "uqTZG1Zs3T_X",
        "colab_type": "code",
        "colab": {}
      },
      "source": [
        "datos[\"sexo_Mod\"]=datos[\"sexo_Mod\"].map({\"M\":3,\"F\":1})"
      ],
      "execution_count": 0,
      "outputs": []
    },
    {
      "cell_type": "markdown",
      "metadata": {
        "id": "gQiJWT234lcr",
        "colab_type": "text"
      },
      "source": [
        "Finalmente para las variables **Canal_E** y **Gama** simplemente realizaremos un **target encoding** para convertirlas a números"
      ]
    },
    {
      "cell_type": "code",
      "metadata": {
        "id": "uyTSHbCwIsOk",
        "colab_type": "code",
        "colab": {}
      },
      "source": [
        "mean_Canal_E=datos.groupby('Canal_E')['target'].mean()\n",
        "datos['Canal_E'] = datos['Canal_E'].map(mean_Canal_E)"
      ],
      "execution_count": 0,
      "outputs": []
    },
    {
      "cell_type": "code",
      "metadata": {
        "id": "mAFuVra0wgIu",
        "colab_type": "code",
        "colab": {}
      },
      "source": [
        "mean_Gama=datos.groupby('Gama')['target'].mean()\n",
        "datos['Gama'] = datos['Gama'].map(mean_Gama)"
      ],
      "execution_count": 0,
      "outputs": []
    },
    {
      "cell_type": "markdown",
      "metadata": {
        "id": "EHSDfwfiW667",
        "colab_type": "text"
      },
      "source": [
        "#III. Modelamiento"
      ]
    },
    {
      "cell_type": "markdown",
      "metadata": {
        "id": "X2p8KOeHKn3s",
        "colab_type": "text"
      },
      "source": [
        "Definimos **dos nuevas variables**:\n",
        "1.   **X**: Las variables predictoras de nuestro modelo\n",
        "2.   **y**: La variable objetivo de nuestro modelo"
      ]
    },
    {
      "cell_type": "code",
      "metadata": {
        "id": "PkrF3LLhKbZE",
        "colab_type": "code",
        "colab": {}
      },
      "source": [
        "X = datos.drop(\"target\", axis = 1)\n",
        "y = datos.target"
      ],
      "execution_count": 0,
      "outputs": []
    },
    {
      "cell_type": "markdown",
      "metadata": {
        "id": "oVmdcfXvKNg3",
        "colab_type": "text"
      },
      "source": [
        "**Dividimos la data entre test y entrenamiento** utilizando el método **X_train_test_split**"
      ]
    },
    {
      "cell_type": "code",
      "metadata": {
        "id": "Rc5yH_NVNP0c",
        "colab_type": "code",
        "colab": {}
      },
      "source": [
        "from sklearn.model_selection import train_test_split\n",
        "X_train, X_test, y_train, y_test = train_test_split(X, y, random_state = 1, stratify=y)"
      ],
      "execution_count": 0,
      "outputs": []
    },
    {
      "cell_type": "markdown",
      "metadata": {
        "id": "4OoZo7sIMkZd",
        "colab_type": "text"
      },
      "source": [
        "Para el presente caso con **target desbalanceado** necesitamos **instalar la librería imblearn**"
      ]
    },
    {
      "cell_type": "code",
      "metadata": {
        "id": "ixc6OTU9MZjj",
        "colab_type": "code",
        "colab": {
          "base_uri": "https://localhost:8080/",
          "height": 139
        },
        "outputId": "df5c7c72-e7b7-4698-b513-81021ed2df23"
      },
      "source": [
        "pip install imblearn"
      ],
      "execution_count": 17,
      "outputs": [
        {
          "output_type": "stream",
          "text": [
            "Requirement already satisfied: imblearn in /usr/local/lib/python3.6/dist-packages (0.0)\n",
            "Requirement already satisfied: imbalanced-learn in /usr/local/lib/python3.6/dist-packages (from imblearn) (0.4.3)\n",
            "Requirement already satisfied: numpy>=1.8.2 in /usr/local/lib/python3.6/dist-packages (from imbalanced-learn->imblearn) (1.17.4)\n",
            "Requirement already satisfied: scikit-learn>=0.20 in /usr/local/lib/python3.6/dist-packages (from imbalanced-learn->imblearn) (0.21.3)\n",
            "Requirement already satisfied: scipy>=0.13.3 in /usr/local/lib/python3.6/dist-packages (from imbalanced-learn->imblearn) (1.3.3)\n",
            "Requirement already satisfied: joblib>=0.11 in /usr/local/lib/python3.6/dist-packages (from scikit-learn>=0.20->imbalanced-learn->imblearn) (0.14.1)\n"
          ],
          "name": "stdout"
        }
      ]
    },
    {
      "cell_type": "markdown",
      "metadata": {
        "id": "gJVIMr00XBgg",
        "colab_type": "text"
      },
      "source": [
        "#Balanceando la data usando SMOTE"
      ]
    },
    {
      "cell_type": "markdown",
      "metadata": {
        "id": "-R79MdZ0M2MS",
        "colab_type": "text"
      },
      "source": [
        "Para abordar el desbalanceo utilizando **SMOTE** importamos el método **SMOTE** de la librería **over_sampling**"
      ]
    },
    {
      "cell_type": "code",
      "metadata": {
        "id": "7KNQacWEMeAl",
        "colab_type": "code",
        "colab": {}
      },
      "source": [
        "from imblearn.over_sampling import SMOTE\n",
        "smt = SMOTE()"
      ],
      "execution_count": 0,
      "outputs": []
    },
    {
      "cell_type": "markdown",
      "metadata": {
        "id": "aauot2C9OVlR",
        "colab_type": "text"
      },
      "source": [
        "**Transformamos los datos de entrenamiento** utilizando el método **fit_simple** con la librería **SMOTE** (smt)"
      ]
    },
    {
      "cell_type": "code",
      "metadata": {
        "id": "gaaP5PKLNB8K",
        "colab_type": "code",
        "colab": {}
      },
      "source": [
        "X_train, y_train = smt.fit_sample(X_train, y_train)"
      ],
      "execution_count": 0,
      "outputs": []
    },
    {
      "cell_type": "markdown",
      "metadata": {
        "id": "T73l_-QkO6E4",
        "colab_type": "text"
      },
      "source": [
        "**Comprobamos efectivamente que ahora sí está balenceado el target (y)** importando la librería **numpy** y utilizando el método **bincount**"
      ]
    },
    {
      "cell_type": "code",
      "metadata": {
        "id": "-di9uDmpOjt4",
        "colab_type": "code",
        "colab": {
          "base_uri": "https://localhost:8080/",
          "height": 34
        },
        "outputId": "a3c629ae-0c0e-4b6b-87e2-e550dc564232"
      },
      "source": [
        "import numpy as np\n",
        "np.bincount(y_train)"
      ],
      "execution_count": 24,
      "outputs": [
        {
          "output_type": "execute_result",
          "data": {
            "text/plain": [
              "array([48169, 48169])"
            ]
          },
          "metadata": {
            "tags": []
          },
          "execution_count": 24
        }
      ]
    },
    {
      "cell_type": "markdown",
      "metadata": {
        "id": "XPXPQswcQYI8",
        "colab_type": "text"
      },
      "source": [
        "Para ejecutar el modelo de **clasificación** importamos la librería **Logistic Regression**"
      ]
    },
    {
      "cell_type": "code",
      "metadata": {
        "id": "tdIAo3MjQo7h",
        "colab_type": "code",
        "colab": {}
      },
      "source": [
        "from sklearn.linear_model import LogisticRegression\n",
        "lr = LogisticRegression()"
      ],
      "execution_count": 0,
      "outputs": []
    },
    {
      "cell_type": "markdown",
      "metadata": {
        "id": "xHx7F4lHQ6Oe",
        "colab_type": "text"
      },
      "source": [
        "**Entrenamos nuestro modelo** con los datos de entrenamiento **y nuestro target ahora sí balanceado**"
      ]
    },
    {
      "cell_type": "code",
      "metadata": {
        "id": "Zkk14yOCQ3Em",
        "colab_type": "code",
        "colab": {
          "base_uri": "https://localhost:8080/",
          "height": 156
        },
        "outputId": "9d2ec34e-5649-4048-c9c9-7c717c045f97"
      },
      "source": [
        "lr.fit(X_train, y_train)"
      ],
      "execution_count": 26,
      "outputs": [
        {
          "output_type": "stream",
          "text": [
            "/usr/local/lib/python3.6/dist-packages/sklearn/linear_model/logistic.py:432: FutureWarning: Default solver will be changed to 'lbfgs' in 0.22. Specify a solver to silence this warning.\n",
            "  FutureWarning)\n"
          ],
          "name": "stderr"
        },
        {
          "output_type": "execute_result",
          "data": {
            "text/plain": [
              "LogisticRegression(C=1.0, class_weight=None, dual=False, fit_intercept=True,\n",
              "                   intercept_scaling=1, l1_ratio=None, max_iter=100,\n",
              "                   multi_class='warn', n_jobs=None, penalty='l2',\n",
              "                   random_state=None, solver='warn', tol=0.0001, verbose=0,\n",
              "                   warm_start=False)"
            ]
          },
          "metadata": {
            "tags": []
          },
          "execution_count": 26
        }
      ]
    },
    {
      "cell_type": "markdown",
      "metadata": {
        "id": "-R1FZ589ROwr",
        "colab_type": "text"
      },
      "source": [
        "**Generamos nuestras predicciones** y guardamos nuestro resultado en la variable **y_pred**"
      ]
    },
    {
      "cell_type": "code",
      "metadata": {
        "id": "VFiYPLdNRIyl",
        "colab_type": "code",
        "colab": {}
      },
      "source": [
        "y_pred = lr.predict(X_test)"
      ],
      "execution_count": 0,
      "outputs": []
    },
    {
      "cell_type": "markdown",
      "metadata": {
        "id": "P8-0nMbyXVMx",
        "colab_type": "text"
      },
      "source": [
        "#IV. Evaluando nuestro modelo utilizando SMOTE"
      ]
    },
    {
      "cell_type": "markdown",
      "metadata": {
        "id": "u2Vb3XcYRmav",
        "colab_type": "text"
      },
      "source": [
        "Para **evaluar** nuestro modelo vamos a realizar **tres métricas**:\n",
        "1.   **confusion_matrix**: donde comparamos las predicciones obtenidas por el modelo versus cada uno de los target reales (en este caso 0 y 1) \n",
        "2.   **accuracy_score**: donde contamos el total de coincidencias entre predicciones y target reales (en porcentaje)\n",
        "3.   **recall_score**: donde solo comparamos las predicciones versus el target = 1 (true)"
      ]
    },
    {
      "cell_type": "code",
      "metadata": {
        "id": "yexFuFGbTHhs",
        "colab_type": "code",
        "colab": {
          "base_uri": "https://localhost:8080/",
          "height": 51
        },
        "outputId": "6f165908-e467-4703-dd70-f9dec75c619f"
      },
      "source": [
        "from sklearn.metrics import confusion_matrix\n",
        "confusion_matrix(y_test, y_pred)"
      ],
      "execution_count": 28,
      "outputs": [
        {
          "output_type": "execute_result",
          "data": {
            "text/plain": [
              "array([[8631, 7426],\n",
              "       [  45,   72]])"
            ]
          },
          "metadata": {
            "tags": []
          },
          "execution_count": 28
        }
      ]
    },
    {
      "cell_type": "code",
      "metadata": {
        "id": "A4BDRDggRbG5",
        "colab_type": "code",
        "colab": {
          "base_uri": "https://localhost:8080/",
          "height": 34
        },
        "outputId": "a7852ff6-6037-4b6b-a0fe-ea81cf37f10f"
      },
      "source": [
        "from sklearn.metrics import accuracy_score\n",
        "accuracy_score(y_test, y_pred)"
      ],
      "execution_count": 29,
      "outputs": [
        {
          "output_type": "execute_result",
          "data": {
            "text/plain": [
              "0.5380858167429208"
            ]
          },
          "metadata": {
            "tags": []
          },
          "execution_count": 29
        }
      ]
    },
    {
      "cell_type": "code",
      "metadata": {
        "id": "CxONN53eTP3D",
        "colab_type": "code",
        "colab": {
          "base_uri": "https://localhost:8080/",
          "height": 34
        },
        "outputId": "6eec94e0-670c-40bd-a35d-1426d6d20621"
      },
      "source": [
        "from sklearn.metrics import recall_score\n",
        "recall_score(y_test, y_pred)"
      ],
      "execution_count": 30,
      "outputs": [
        {
          "output_type": "execute_result",
          "data": {
            "text/plain": [
              "0.6153846153846154"
            ]
          },
          "metadata": {
            "tags": []
          },
          "execution_count": 30
        }
      ]
    },
    {
      "cell_type": "markdown",
      "metadata": {
        "id": "W2gQVhWdXkUU",
        "colab_type": "text"
      },
      "source": [
        "#Balanceando la data utilizando NearMiss"
      ]
    },
    {
      "cell_type": "markdown",
      "metadata": {
        "colab_type": "text",
        "id": "iPR5PWgGUoVt"
      },
      "source": [
        "Para abordar el desbalanceo utilizando **NearMiss** importamos el método **NearMiss** de la librería **over_sampling**"
      ]
    },
    {
      "cell_type": "code",
      "metadata": {
        "id": "FX4j7oJZUwp9",
        "colab_type": "code",
        "colab": {}
      },
      "source": [
        "from imblearn.under_sampling import NearMiss\n",
        "nr = NearMiss()"
      ],
      "execution_count": 0,
      "outputs": []
    },
    {
      "cell_type": "markdown",
      "metadata": {
        "colab_type": "text",
        "id": "IGJzlDZKVsJp"
      },
      "source": [
        "**Transformamos los datos de entrenamiento** utilizando el método **fit_simple** con la librería **NearMiss** (nr)"
      ]
    },
    {
      "cell_type": "code",
      "metadata": {
        "colab_type": "code",
        "id": "f6IF8R_dVsJz",
        "colab": {}
      },
      "source": [
        "X_train, y_train = nr.fit_sample(X_train, y_train)"
      ],
      "execution_count": 0,
      "outputs": []
    },
    {
      "cell_type": "markdown",
      "metadata": {
        "colab_type": "text",
        "id": "mMen0j6LVsJ_"
      },
      "source": [
        "**Comprobamos efectivamente que ahora sí está balenceado el target (y)** importando la librería **numpy** y utilizando el método **bincount**"
      ]
    },
    {
      "cell_type": "code",
      "metadata": {
        "colab_type": "code",
        "outputId": "867656b5-a17a-45c3-f3f1-25b4a0a8c9bb",
        "id": "_EyMSZPQVsKC",
        "colab": {
          "base_uri": "https://localhost:8080/",
          "height": 34
        }
      },
      "source": [
        "import numpy as np\n",
        "np.bincount(y_train)"
      ],
      "execution_count": 33,
      "outputs": [
        {
          "output_type": "execute_result",
          "data": {
            "text/plain": [
              "array([48169, 48169])"
            ]
          },
          "metadata": {
            "tags": []
          },
          "execution_count": 33
        }
      ]
    },
    {
      "cell_type": "markdown",
      "metadata": {
        "colab_type": "text",
        "id": "zJadnUpEVsKX"
      },
      "source": [
        "Para ejecutar el modelo de **clasificación** importamos la librería **Logistic Regression**"
      ]
    },
    {
      "cell_type": "code",
      "metadata": {
        "colab_type": "code",
        "id": "YBe78NSsVsKa",
        "colab": {}
      },
      "source": [
        "from sklearn.linear_model import LogisticRegression\n",
        "lr = LogisticRegression()"
      ],
      "execution_count": 0,
      "outputs": []
    },
    {
      "cell_type": "markdown",
      "metadata": {
        "colab_type": "text",
        "id": "A_IbZH8bVsKg"
      },
      "source": [
        "**Entrenamos nuestro modelo** con los datos de entrenamiento **y nuestro target ahora sí balanceado**"
      ]
    },
    {
      "cell_type": "code",
      "metadata": {
        "colab_type": "code",
        "outputId": "8ab7324f-e311-47de-9ccf-e00d4123ef3a",
        "id": "jRaYGCZ2VsKi",
        "colab": {
          "base_uri": "https://localhost:8080/",
          "height": 156
        }
      },
      "source": [
        "lr.fit(X_train, y_train)"
      ],
      "execution_count": 35,
      "outputs": [
        {
          "output_type": "stream",
          "text": [
            "/usr/local/lib/python3.6/dist-packages/sklearn/linear_model/logistic.py:432: FutureWarning: Default solver will be changed to 'lbfgs' in 0.22. Specify a solver to silence this warning.\n",
            "  FutureWarning)\n"
          ],
          "name": "stderr"
        },
        {
          "output_type": "execute_result",
          "data": {
            "text/plain": [
              "LogisticRegression(C=1.0, class_weight=None, dual=False, fit_intercept=True,\n",
              "                   intercept_scaling=1, l1_ratio=None, max_iter=100,\n",
              "                   multi_class='warn', n_jobs=None, penalty='l2',\n",
              "                   random_state=None, solver='warn', tol=0.0001, verbose=0,\n",
              "                   warm_start=False)"
            ]
          },
          "metadata": {
            "tags": []
          },
          "execution_count": 35
        }
      ]
    },
    {
      "cell_type": "markdown",
      "metadata": {
        "colab_type": "text",
        "id": "ZHVxOS2SVsKq"
      },
      "source": [
        "**Generamos nuestras predicciones** y guardamos nuestro resultado en la variable **y_pred**"
      ]
    },
    {
      "cell_type": "code",
      "metadata": {
        "colab_type": "code",
        "id": "gpT8TQKEVsKs",
        "colab": {}
      },
      "source": [
        "y_pred = lr.predict(X_test)"
      ],
      "execution_count": 0,
      "outputs": []
    },
    {
      "cell_type": "markdown",
      "metadata": {
        "id": "IfZAjMjwXu7H",
        "colab_type": "text"
      },
      "source": [
        "#IV. Evaluando nuestro modelo utilizando NearMiss"
      ]
    },
    {
      "cell_type": "markdown",
      "metadata": {
        "colab_type": "text",
        "id": "ZWP5ebtjVsKy"
      },
      "source": [
        "Para **evaluar** nuestro modelo vamos a realizar **tres métricas**:\n",
        "1.   **confusion_matrix**: donde comparamos las predicciones obtenidas por el modelo versus cada uno de los target reales (en este caso 0 y 1) \n",
        "2.   **accuracy_score**: donde contamos el total de coincidencias entre predicciones y target reales (en porcentaje)\n",
        "3.   **recall_score**: donde solo comparamos las predicciones versus el target = 1 (true)"
      ]
    },
    {
      "cell_type": "code",
      "metadata": {
        "id": "qprck5HjWLKP",
        "colab_type": "code",
        "colab": {
          "base_uri": "https://localhost:8080/",
          "height": 51
        },
        "outputId": "29e684bb-2d07-4860-bc04-c1ee4b516847"
      },
      "source": [
        "from sklearn.metrics import confusion_matrix\n",
        "confusion_matrix(y_test, y_pred)"
      ],
      "execution_count": 37,
      "outputs": [
        {
          "output_type": "execute_result",
          "data": {
            "text/plain": [
              "array([[8710, 7347],\n",
              "       [  46,   71]])"
            ]
          },
          "metadata": {
            "tags": []
          },
          "execution_count": 37
        }
      ]
    },
    {
      "cell_type": "code",
      "metadata": {
        "id": "D5kX8jvOWS0m",
        "colab_type": "code",
        "colab": {
          "base_uri": "https://localhost:8080/",
          "height": 34
        },
        "outputId": "62deaced-d928-42ad-da93-00dfe91932d4"
      },
      "source": [
        "from sklearn.metrics import accuracy_score\n",
        "accuracy_score(y_test, y_pred)"
      ],
      "execution_count": 38,
      "outputs": [
        {
          "output_type": "execute_result",
          "data": {
            "text/plain": [
              "0.5429083714603685"
            ]
          },
          "metadata": {
            "tags": []
          },
          "execution_count": 38
        }
      ]
    },
    {
      "cell_type": "code",
      "metadata": {
        "id": "ZtLQqWpSWZO1",
        "colab_type": "code",
        "colab": {
          "base_uri": "https://localhost:8080/",
          "height": 34
        },
        "outputId": "9bddc1b6-3571-43ec-fd80-77a7e81563c1"
      },
      "source": [
        "from sklearn.metrics import recall_score\n",
        "recall_score(y_test, y_pred)"
      ],
      "execution_count": 39,
      "outputs": [
        {
          "output_type": "execute_result",
          "data": {
            "text/plain": [
              "0.6068376068376068"
            ]
          },
          "metadata": {
            "tags": []
          },
          "execution_count": 39
        }
      ]
    }
  ]
}