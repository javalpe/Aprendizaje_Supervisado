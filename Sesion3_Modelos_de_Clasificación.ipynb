{
  "nbformat": 4,
  "nbformat_minor": 0,
  "metadata": {
    "kernelspec": {
      "name": "python2",
      "display_name": "Python 2"
    },
    "language_info": {
      "codemirror_mode": {
        "name": "ipython",
        "version": 2
      },
      "file_extension": ".py",
      "mimetype": "text/x-python",
      "name": "python",
      "nbconvert_exporter": "python",
      "pygments_lexer": "ipython2",
      "version": "2.7.15"
    },
    "colab": {
      "name": "Sesion3_Modelos de Clasificación",
      "provenance": [],
      "collapsed_sections": []
    },
    "accelerator": "GPU"
  },
  "cells": [
    {
      "cell_type": "markdown",
      "metadata": {
        "id": "_Obe96sjqQZi",
        "colab_type": "text"
      },
      "source": [
        "# **Caso: ¿Quién sobrevive al Titanic?**"
      ]
    },
    {
      "cell_type": "markdown",
      "metadata": {
        "id": "LRAXCTtF0CdJ",
        "colab_type": "text"
      },
      "source": [
        "Todos los datos utilizados en esta clase se pueden encontrar en la siguiente competencia de Kaggle: **https://www.kaggle.com/c/titanic**"
      ]
    },
    {
      "cell_type": "markdown",
      "metadata": {
        "id": "6SvN74nmqQZj",
        "colab_type": "text"
      },
      "source": [
        "# Entendimiento del negocio"
      ]
    },
    {
      "cell_type": "markdown",
      "metadata": {
        "id": "UizMesOSqQZl",
        "colab_type": "text"
      },
      "source": [
        "- El hundimiento del Titanic es uno de los accidentes náuticos más conocidos de la historia. \n",
        "- Fallecieron **1,502** personas de los **2,224** pasajeros. \n",
        "- Una de las principales causas es que no existían botes salvavidas suficientes para los pasajeros y la tripulación.\n",
        "- Descubriremos algunos **factores relevantes** para la supervivencia de los pasajeros\n",
        "- Nuestro objetivo es obtener una **probabilidad de supervivencia** y podremos responder a la siguiente pregunta: ¿hubiéramos sobrevivido en el Titanic?"
      ]
    },
    {
      "cell_type": "markdown",
      "metadata": {
        "id": "5VNMRG0HqQZn",
        "colab_type": "text"
      },
      "source": [
        "## Comprensión de los datos"
      ]
    },
    {
      "cell_type": "markdown",
      "metadata": {
        "id": "x49d0fY2qQZw",
        "colab_type": "text"
      },
      "source": [
        "Leemos los datos (train y test) a partir de archivos CSV(Comma Separated Values)."
      ]
    },
    {
      "cell_type": "code",
      "metadata": {
        "id": "I5FbrSsjqQZy",
        "colab_type": "code",
        "colab": {}
      },
      "source": [
        "import pandas as pd\n",
        "train = pd.read_csv('https://raw.githubusercontent.com/javalillo13689/hackspace/master/titanic_train.csv')\n",
        "test = pd.read_csv(\"https://raw.githubusercontent.com/javalillo13689/hackspace/master/titanic_test.csv\")"
      ],
      "execution_count": 0,
      "outputs": []
    },
    {
      "cell_type": "markdown",
      "metadata": {
        "id": "_d5-Dml2qQZ2",
        "colab_type": "text"
      },
      "source": [
        "Visualizamos el tamaño de la data contenida en ambos archivos a través del método **shape**"
      ]
    },
    {
      "cell_type": "code",
      "metadata": {
        "id": "jQK2yiYTyNq8",
        "colab_type": "code",
        "colab": {}
      },
      "source": [
        "train.shape, test.shape"
      ],
      "execution_count": 0,
      "outputs": []
    },
    {
      "cell_type": "markdown",
      "metadata": {
        "id": "6aqa8-ULqQZ8",
        "colab_type": "text"
      },
      "source": [
        "A fin de comprobar que la data ha sido importada de forma correcta ejecutamos el método **head** para train y test por separado."
      ]
    },
    {
      "cell_type": "code",
      "metadata": {
        "id": "YIJBTXO5qQZ-",
        "colab_type": "code",
        "colab": {}
      },
      "source": [
        "train.head(3)"
      ],
      "execution_count": 0,
      "outputs": []
    },
    {
      "cell_type": "code",
      "metadata": {
        "id": "fcbBglUAy0y8",
        "colab_type": "code",
        "colab": {}
      },
      "source": [
        "test.head(3)"
      ],
      "execution_count": 0,
      "outputs": []
    },
    {
      "cell_type": "markdown",
      "metadata": {
        "id": "Pl62nT4EqQaL",
        "colab_type": "text"
      },
      "source": [
        "Mostrar el tipo de datos de las variables"
      ]
    },
    {
      "cell_type": "code",
      "metadata": {
        "id": "71tWH8yeqQaO",
        "colab_type": "code",
        "colab": {}
      },
      "source": [
        "train.dtypes"
      ],
      "execution_count": 0,
      "outputs": []
    },
    {
      "cell_type": "markdown",
      "metadata": {
        "id": "tbHZpbs_qQbT",
        "colab_type": "text"
      },
      "source": [
        "# Preprocesamiento de los datos"
      ]
    },
    {
      "cell_type": "markdown",
      "metadata": {
        "id": "jptYp15QeE4G",
        "colab_type": "text"
      },
      "source": [
        "##Preprocesamiento de nulos o vacíos"
      ]
    },
    {
      "cell_type": "markdown",
      "metadata": {
        "id": "eK1PnTkSqQaS",
        "colab_type": "text"
      },
      "source": [
        "Mostrar las columnas con datos faltantes y el porcentaje de los mismos"
      ]
    },
    {
      "cell_type": "code",
      "metadata": {
        "id": "xKuDUFbGqQaU",
        "colab_type": "code",
        "colab": {}
      },
      "source": [
        "def valores_perdidos (tabla): \n",
        "        total_nulos = tabla.isnull().sum()\n",
        "        porcentaje_nulos = 100 * tabla.isnull().sum()/len(tabla)\n",
        "        tabla_nulos = pd.concat([total_nulos, porcentaje_nulos], axis=1)\n",
        "        tabla_nulos_nombres = tabla_nulos.rename(columns = {0 : 'total_nulos', 1 : '% nulos'})\n",
        "        return tabla_nulos_nombres [tabla_nulos_nombres['total_nulos'] != 0].sort_values('total_nulos', ascending=False)"
      ],
      "execution_count": 0,
      "outputs": []
    },
    {
      "cell_type": "code",
      "metadata": {
        "id": "2cEOeJ78Y0L1",
        "colab_type": "code",
        "colab": {}
      },
      "source": [
        "valores_perdidos(train)"
      ],
      "execution_count": 0,
      "outputs": []
    },
    {
      "cell_type": "code",
      "metadata": {
        "id": "5Jbki2TJYx3v",
        "colab_type": "code",
        "colab": {}
      },
      "source": [
        "valores_perdidos(test)"
      ],
      "execution_count": 0,
      "outputs": []
    },
    {
      "cell_type": "markdown",
      "metadata": {
        "colab_type": "text",
        "id": "vpRVmED0atJU"
      },
      "source": [
        "**ms.matrix** (librería missingno): Grafica cada columna dejando espacios donde aparezcan valores perdidos.\n",
        "\n",
        "Es más intuitivo y fácil de mapear, pero es dificil de visualizar si contamos con muchas columnas"
      ]
    },
    {
      "cell_type": "code",
      "metadata": {
        "id": "iXgs6kJgbV3M",
        "colab_type": "code",
        "colab": {}
      },
      "source": [
        "import missingno as ms\n",
        "ms.matrix(train)"
      ],
      "execution_count": 0,
      "outputs": []
    },
    {
      "cell_type": "code",
      "metadata": {
        "id": "kLvwrb9fbysc",
        "colab_type": "code",
        "colab": {}
      },
      "source": [
        "ms.matrix(test)"
      ],
      "execution_count": 0,
      "outputs": []
    },
    {
      "cell_type": "markdown",
      "metadata": {
        "colab_type": "text",
        "id": "RPYFkDmEcU05"
      },
      "source": [
        "Reemplazamos los datos faltantes según el tipo de dato en cada columna:\n",
        "\n",
        "1.   Si el tipo de dato es **numérico** (int64, float64) procedemos a reemplazarlo por la **media**\n",
        "2.   Si el tipo de dato **no es numérico** (object) procedemos a reemplazarlo por la **moda**\n",
        "\n"
      ]
    },
    {
      "cell_type": "code",
      "metadata": {
        "id": "Vhh7vujvoMiV",
        "colab_type": "code",
        "colab": {}
      },
      "source": [
        "train['cabina'].fillna(train['cabina'].mode()[0], inplace=True)\n",
        "train['edad'].fillna(train['edad'].mean(), inplace=True)\n",
        "train['puerto_embarque'].fillna(train['puerto_embarque'].mode()[0], inplace=True)"
      ],
      "execution_count": 0,
      "outputs": []
    },
    {
      "cell_type": "code",
      "metadata": {
        "id": "4gqIqLWppTUC",
        "colab_type": "code",
        "colab": {}
      },
      "source": [
        "test['cabina'].fillna(train['cabina'].mode()[0], inplace=True)\n",
        "test['edad'].fillna(train['edad'].mean(), inplace=True)\n",
        "test['tarifa'].fillna(train['tarifa'].mean(), inplace=True)"
      ],
      "execution_count": 0,
      "outputs": []
    },
    {
      "cell_type": "code",
      "metadata": {
        "id": "d-qRws7isKZi",
        "colab_type": "code",
        "colab": {}
      },
      "source": [
        "valores_perdidos(test)"
      ],
      "execution_count": 0,
      "outputs": []
    },
    {
      "cell_type": "markdown",
      "metadata": {
        "id": "fKfzS54teUm-",
        "colab_type": "text"
      },
      "source": [
        "##Preprocesamiento de outliers o valores fuera de lo normal"
      ]
    },
    {
      "cell_type": "markdown",
      "metadata": {
        "colab_type": "text",
        "id": "8APr1IFYrF3j"
      },
      "source": [
        "1.   Realizamos un gráfico de boxplot para identificar valores fuera de la dispersión normal de la data. **Este método solo se aplica a variables numéricas**\n",
        "2.   Reemplazaremos estos valores, si lo hubiera, por el **percentil 95**"
      ]
    },
    {
      "cell_type": "markdown",
      "metadata": {
        "id": "ZT2mj0BLeR0k",
        "colab_type": "text"
      },
      "source": [
        ""
      ]
    },
    {
      "cell_type": "code",
      "metadata": {
        "id": "xmHOvvt1rDbC",
        "colab_type": "code",
        "colab": {}
      },
      "source": [
        "import matplotlib.pyplot as plt\n",
        "import seaborn as sns\n",
        "sns.boxplot(train['edad'], orient=\"v\")\n",
        "plt.show()\n",
        "sns.boxplot(train['tarifa'], orient='v')\n",
        "plt.show()"
      ],
      "execution_count": 0,
      "outputs": []
    },
    {
      "cell_type": "code",
      "metadata": {
        "id": "RuoKvlWLsOKr",
        "colab_type": "code",
        "colab": {}
      },
      "source": [
        "import matplotlib.pyplot as plt\n",
        "import seaborn as sns\n",
        "sns.boxplot(test['edad'], orient=\"v\")\n",
        "plt.show()"
      ],
      "execution_count": 0,
      "outputs": []
    },
    {
      "cell_type": "code",
      "metadata": {
        "id": "WXedxpaOtcBR",
        "colab_type": "code",
        "colab": {}
      },
      "source": [
        "outliers_a_reemplazar = train[train['edad'] > train['edad'].quantile(.95)].index\n",
        "train.loc[outliers_a_reemplazar,'edad'] = train['edad'].quantile(.95)"
      ],
      "execution_count": 0,
      "outputs": []
    },
    {
      "cell_type": "code",
      "metadata": {
        "id": "zXcwPqk0sufV",
        "colab_type": "code",
        "colab": {}
      },
      "source": [
        "outliers_a_reemplazar = train[train['tarifa'] > train['tarifa'].quantile(.95)].index\n",
        "train.loc[outliers_a_reemplazar,'tarifa'] = train['tarifa'].quantile(.95)"
      ],
      "execution_count": 0,
      "outputs": []
    },
    {
      "cell_type": "code",
      "metadata": {
        "id": "DgdAkOzQtNIY",
        "colab_type": "code",
        "colab": {}
      },
      "source": [
        "outliers_a_reemplazar = test[test['edad'] > test['edad'].quantile(.95)].index\n",
        "test.loc[outliers_a_reemplazar,'edad'] = test['edad'].quantile(.95)"
      ],
      "execution_count": 0,
      "outputs": []
    },
    {
      "cell_type": "markdown",
      "metadata": {
        "id": "TSrb9TABefdy",
        "colab_type": "text"
      },
      "source": [
        "##Preprocesamiento de las variables o *Feature Engineering*"
      ]
    },
    {
      "cell_type": "markdown",
      "metadata": {
        "colab_type": "text",
        "id": "djHocNvyxvnQ"
      },
      "source": [
        "1.   Evaluamos según la lógica del problema **qué variables podrían impactar directamente en nuestro objetivo a predecir**. En este caso la supervivencia.\n",
        "2.   Reemplazaremos estas variables, si lo hubiera, por valors **numéricos** que ayuden al modelo a brindarle mayor importancia para la predicción"
      ]
    },
    {
      "cell_type": "code",
      "metadata": {
        "id": "MCP_zLdst697",
        "colab_type": "code",
        "colab": {}
      },
      "source": [
        "sns.swarmplot(x='sobrevivio',y='edad',data=train,hue='sexo')"
      ],
      "execution_count": 0,
      "outputs": []
    },
    {
      "cell_type": "code",
      "metadata": {
        "id": "OloE2_0LwIyC",
        "colab_type": "code",
        "colab": {}
      },
      "source": [
        "sns.countplot(x = 'puerto_embarque', data = train[train['sobrevivio'] == 0])"
      ],
      "execution_count": 0,
      "outputs": []
    },
    {
      "cell_type": "code",
      "metadata": {
        "id": "QlBqxsdOvh5D",
        "colab_type": "code",
        "colab": {}
      },
      "source": [
        "palabras_a_numeros = {\"puerto_embarque\":  {\"S\": 0, \"Q\":1, \"C\": 2},\"sexo\": {\"male\":0,\"female\":1}}"
      ],
      "execution_count": 0,
      "outputs": []
    },
    {
      "cell_type": "code",
      "metadata": {
        "id": "nRPhAEwge4e5",
        "colab_type": "code",
        "colab": {}
      },
      "source": [
        "train.replace(palabras_a_numeros, inplace = True)"
      ],
      "execution_count": 0,
      "outputs": []
    },
    {
      "cell_type": "code",
      "metadata": {
        "id": "n4raR3eHwjUa",
        "colab_type": "code",
        "colab": {}
      },
      "source": [
        "test.replace(palabras_a_numeros, inplace = True)"
      ],
      "execution_count": 0,
      "outputs": []
    },
    {
      "cell_type": "code",
      "metadata": {
        "id": "ifH0cD1lxCtx",
        "colab_type": "code",
        "colab": {}
      },
      "source": [
        "test.head(3)"
      ],
      "execution_count": 0,
      "outputs": []
    },
    {
      "cell_type": "markdown",
      "metadata": {
        "id": "JSiB08ThfYji",
        "colab_type": "text"
      },
      "source": [
        "##Preprocesamiento de distribuciones que se alejan de la distribución normal"
      ]
    },
    {
      "cell_type": "markdown",
      "metadata": {
        "colab_type": "text",
        "id": "laIX0_nHydOI"
      },
      "source": [
        "1.   Seleccionamos aquellas variables **numéricas** que presenten un comportamiento alejado a la distribución normal.\n",
        "2.   Estandarizamos estas variables, si lo hubiera, para uniformizar la data lista para ingresar al modelo."
      ]
    },
    {
      "cell_type": "code",
      "metadata": {
        "id": "qnzax3Rs7GtF",
        "colab_type": "code",
        "colab": {}
      },
      "source": [
        "sns.distplot(train['tarifa'])\n",
        "plt.show()\n",
        "sns.distplot(train['edad'])\n",
        "plt.show()"
      ],
      "execution_count": 0,
      "outputs": []
    },
    {
      "cell_type": "markdown",
      "metadata": {
        "colab_type": "text",
        "id": "eW5bMksOFZDJ"
      },
      "source": [
        "Transformación BoxCox"
      ]
    },
    {
      "cell_type": "code",
      "metadata": {
        "id": "6onPUCX99D2j",
        "colab_type": "code",
        "colab": {}
      },
      "source": [
        "from scipy.special import boxcox1p\n",
        "train['tarifa'] = boxcox1p(train['tarifa'], 0.15)\n",
        "sns.distplot(train['tarifa'])"
      ],
      "execution_count": 0,
      "outputs": []
    },
    {
      "cell_type": "markdown",
      "metadata": {
        "colab_type": "text",
        "id": "GREemuS4FnW8"
      },
      "source": [
        "Transformación Logarítmica"
      ]
    },
    {
      "cell_type": "code",
      "metadata": {
        "id": "jvlBQNG9AX1k",
        "colab_type": "code",
        "colab": {}
      },
      "source": [
        "import numpy as np\n",
        "sns.distplot(np.log1p(train['tarifa']))"
      ],
      "execution_count": 0,
      "outputs": []
    },
    {
      "cell_type": "code",
      "metadata": {
        "id": "uROhHYVtGGPl",
        "colab_type": "code",
        "colab": {}
      },
      "source": [
        "test['tarifa'] = boxcox1p(test['tarifa'], 0.15)"
      ],
      "execution_count": 0,
      "outputs": []
    },
    {
      "cell_type": "markdown",
      "metadata": {
        "id": "zb7Mwm0mhect",
        "colab_type": "text"
      },
      "source": [
        "# **Modelamiento**"
      ]
    },
    {
      "cell_type": "markdown",
      "metadata": {
        "id": "D3QDxsKBhoiM",
        "colab_type": "text"
      },
      "source": [
        "En esta sesión ejecutamos nuestros primeros modelos de machine learning. Para el caso del titanic utilizamos **modelos de clasificación** porque vamos a predecir una **clase** o característica: 1=sobrevivió, 0=no sobrevivió.\n",
        "\n",
        "Los modelos que ejecutaremos serán:\n",
        "\n",
        "1.   Regresión Logística\n",
        "2.   Árbol de clasificación (y también Random Forest)"
      ]
    },
    {
      "cell_type": "markdown",
      "metadata": {
        "id": "J7y9SMw1W99i",
        "colab_type": "text"
      },
      "source": [
        "## Seleccionando las variables predictoras"
      ]
    },
    {
      "cell_type": "markdown",
      "metadata": {
        "id": "fzCUP5DGXE5U",
        "colab_type": "text"
      },
      "source": [
        "Filtramos cada base de datos (train y test) para quedarnos únicamente con las variables predictoras que utilizaremos para nuestro modelo.\n",
        "\n",
        "Por ello descartamos de esta selección a las siguientes variables:\n",
        "\n",
        "1.   **id** porque el lugar que ocupa actualmente en la lista de registro no influye en la supervivencia del pasajero\n",
        "2.   **nombre** porque el nombre del pasajero no es relevante para el modelo\n",
        "3.   **ticket** porque el ticket de compra que consiguió cada pasajero no es decisivo para la supervivencia del pasajero\n",
        "4.   **cabina** porque el nombre de la habitación donde estuvo el pasajero no es relevante para el modelo"
      ]
    },
    {
      "cell_type": "code",
      "metadata": {
        "id": "mZgykIxCGORu",
        "colab_type": "code",
        "colab": {}
      },
      "source": [
        "train.drop(['id','nombre','ticket','cabina'],axis=1,inplace=True)\n",
        "test.drop(['id','nombre','ticket','cabina'],axis=1,inplace=True)"
      ],
      "execution_count": 0,
      "outputs": []
    },
    {
      "cell_type": "markdown",
      "metadata": {
        "id": "dJ2gV9_LdluL",
        "colab_type": "text"
      },
      "source": [
        "##Dividiendo la base de train en x_train, y_train"
      ]
    },
    {
      "cell_type": "markdown",
      "metadata": {
        "id": "Uq1zpnpDgcdo",
        "colab_type": "text"
      },
      "source": [
        "1.   Para comenzar con la ejecución del modelo almacenaremos solo  **las variables predictoras** en X\n",
        "2.   La variable objetivo (**target**) que para el titanic es la columna **sobrevivio** la almacenamos en y"
      ]
    },
    {
      "cell_type": "code",
      "metadata": {
        "id": "_4q5QhABDxeZ",
        "colab_type": "code",
        "colab": {}
      },
      "source": [
        "X = train.drop('sobrevivio',axis=1)\n",
        "y = train['sobrevivio']"
      ],
      "execution_count": 0,
      "outputs": []
    },
    {
      "cell_type": "code",
      "metadata": {
        "id": "OyyKNzmahq-Z",
        "colab_type": "code",
        "colab": {}
      },
      "source": [
        "#Todo modelo supervisado requiere dividir la data entre variables predictoras y variable objetivo (target)\n",
        "from sklearn.model_selection import train_test_split\n",
        "x_train,x_valid,y_train, y_valid=train_test_split(X,y)"
      ],
      "execution_count": 0,
      "outputs": []
    },
    {
      "cell_type": "markdown",
      "metadata": {
        "colab_type": "text",
        "id": "BVcruqiRnBkG"
      },
      "source": [
        "##Aplicando el modelo de Regresión Logística sobre train"
      ]
    },
    {
      "cell_type": "code",
      "metadata": {
        "id": "WoM5hg9DoCHQ",
        "colab_type": "code",
        "colab": {}
      },
      "source": [
        "#Importamos el modelo LogisticRegression de la librería linear_model y lo almacenamos en la variable logreg\n",
        "from sklearn.linear_model import LogisticRegression\n",
        "logreg = LogisticRegression()"
      ],
      "execution_count": 0,
      "outputs": []
    },
    {
      "cell_type": "code",
      "metadata": {
        "id": "8xMpsbtFt3lc",
        "colab_type": "code",
        "colab": {}
      },
      "source": [
        "#Entrenamos el modelo con la variables predictoras (x_train) y el target (y_train)\n",
        "logreg.fit(x_train, y_train)"
      ],
      "execution_count": 0,
      "outputs": []
    },
    {
      "cell_type": "code",
      "metadata": {
        "id": "IgbOsBEBO2W_",
        "colab_type": "code",
        "colab": {}
      },
      "source": [
        "#Obtenemos las predicciones utilizando nuestro modelo entrenado con las variables predictoras (x_valid)\n",
        "logreg_pred = logreg.predict(x_valid)\n",
        "logreg_pred"
      ],
      "execution_count": 0,
      "outputs": []
    },
    {
      "cell_type": "markdown",
      "metadata": {
        "colab_type": "text",
        "id": "C83EFMyuT-8f"
      },
      "source": [
        "##Obteniendo las probabilidades de predicción con la Regresión Logística"
      ]
    },
    {
      "cell_type": "markdown",
      "metadata": {
        "colab_type": "text",
        "id": "6NT-DPgiU8v1"
      },
      "source": [
        "Recuerda, **predict_proba** nos va a decir la **probabilidad** de que el registro sea 0 ó 1. Para el caso titanic **si sobreviviría o no**.\n",
        "\n",
        "Esta función requiere solo 1 parámetro: la lista de **variables predictoras** para generar la probabilidad de cada registro"
      ]
    },
    {
      "cell_type": "code",
      "metadata": {
        "id": "RmQM6zDmToFI",
        "colab_type": "code",
        "colab": {}
      },
      "source": [
        "#Ejecutamos el parámetro interno \"predict_proba\" del modelo logreg\n",
        "probabilidades = logreg.predict_proba(x_valid)\n",
        "probabilidades"
      ],
      "execution_count": 0,
      "outputs": []
    },
    {
      "cell_type": "markdown",
      "metadata": {
        "colab_type": "text",
        "id": "D32axGMxSHKp"
      },
      "source": [
        "##Obteniendo el Accuracy Score de la Regresión Logística"
      ]
    },
    {
      "cell_type": "markdown",
      "metadata": {
        "id": "gE7W54G6RJds",
        "colab_type": "text"
      },
      "source": [
        "Recuerda que la función **accuracy_score** nos va a decir el porcentaje de predicción de nuestro modelo, es decir, **cuánto del total** de registros nos está **prediciendo bien**.\n",
        "\n",
        "Esta función requiere dos (2) parámetros: la lista de valores en **target** y la lista de **predicciones** hechas por nuestro modelo."
      ]
    },
    {
      "cell_type": "code",
      "metadata": {
        "id": "zCJwt0hfuVuh",
        "colab_type": "code",
        "colab": {}
      },
      "source": [
        "#Importamos la métrica accuracy_score de la librería metrics\n",
        "from sklearn.metrics import accuracy_score"
      ],
      "execution_count": 0,
      "outputs": []
    },
    {
      "cell_type": "code",
      "metadata": {
        "id": "7xLCs1l1Q3_i",
        "colab_type": "code",
        "colab": {}
      },
      "source": [
        "#Calculamos la métrica del modelo de clasificación: accuracy_score. Con sintaxis de Python fijamos 4 decimales\n",
        "print('El accuracy para mi primero modelo es :{0:.4f}'.format(accuracy_score(y_valid,logreg_pred)))"
      ],
      "execution_count": 0,
      "outputs": []
    },
    {
      "cell_type": "markdown",
      "metadata": {
        "colab_type": "text",
        "id": "_MCODLT-mpAc"
      },
      "source": [
        "##Obteniendo la Matriz de Confusión de la Regresión Logística"
      ]
    },
    {
      "cell_type": "code",
      "metadata": {
        "id": "bYkOQX32miEe",
        "colab_type": "code",
        "colab": {}
      },
      "source": [
        "#Importamos el método confusion_matrix de la librería metrics\n",
        "from sklearn.metrics import confusion_matrix"
      ],
      "execution_count": 0,
      "outputs": []
    },
    {
      "cell_type": "markdown",
      "metadata": {
        "id": "bdcqPpA2nwOK",
        "colab_type": "text"
      },
      "source": [
        "Recuerda, **conf_matrix** nos va a decir la **cantidad de registros** almacenados en cada uno de los siguientes escenarios:\n",
        "\n",
        "1.   **True Positive**: el target real y la predicción coinciden en 1. Para el caso de titanic **predice de manera correcta la supervivencia**\n",
        "2.   **False Positive**: el target real y la predicción coinciden en 0. Para el caso de titanic **predice de manera correcta la muerte**\n",
        "3.   **True Negative**: el target real=1 y la predicción=0. Para el caso de titanic **predice de manera incorrecta la supervivencia**\n",
        "2.   **False Negative**: el target real=0 y la predicción=1. Para el caso de titanic **predice de manera incorrecta la muerte**"
      ]
    },
    {
      "cell_type": "code",
      "metadata": {
        "id": "ZqtfbBCNnCz-",
        "colab_type": "code",
        "colab": {}
      },
      "source": [
        "#Entrenamos la matriz de confusión y almacenamos el resultado en la variable conf_matrix\n",
        "conf_matrix = confusion_matrix(y_valid,logreg_pred)"
      ],
      "execution_count": 0,
      "outputs": []
    },
    {
      "cell_type": "code",
      "metadata": {
        "id": "jakSt01op9PJ",
        "colab_type": "code",
        "colab": {}
      },
      "source": [
        "#Utilizamos el método heatmap de la librería seaborn para dibujar la matriz de confusión\n",
        "import seaborn as sns\n",
        "sns.heatmap(conf_matrix, annot = True, annot_kws={\"size\": 18}, fmt=\".1f\")"
      ],
      "execution_count": 0,
      "outputs": []
    },
    {
      "cell_type": "markdown",
      "metadata": {
        "colab_type": "text",
        "id": "2l4T_ejhgprq"
      },
      "source": [
        "##Aplicando el modelo de Árbol de Clasificación sobre train"
      ]
    },
    {
      "cell_type": "code",
      "metadata": {
        "colab_type": "code",
        "id": "a2oligqRg3kg",
        "colab": {}
      },
      "source": [
        "#Importamos el modelo DecisionTreeClassifier de la librería tree y lo almacenamos en la variable tree_clf\n",
        "from sklearn.tree import DecisionTreeClassifier\n",
        "tree_clf = DecisionTreeClassifier()"
      ],
      "execution_count": 0,
      "outputs": []
    },
    {
      "cell_type": "code",
      "metadata": {
        "id": "9nSc7zeigUxu",
        "colab_type": "code",
        "colab": {}
      },
      "source": [
        "#Entrenamos el modelo con la variables predictoras (x_train) y el target (y_train)\n",
        "tree_clf.fit(x_train, y_train)"
      ],
      "execution_count": 0,
      "outputs": []
    },
    {
      "cell_type": "code",
      "metadata": {
        "id": "oMI4BffEh96Y",
        "colab_type": "code",
        "colab": {}
      },
      "source": [
        "#Obtenemos las predicciones utilizando nuestro modelo entrenado con las variables predictoras (x_valid)\n",
        "tree_pred = tree_clf.predict(x_valid)\n",
        "tree_pred"
      ],
      "execution_count": 0,
      "outputs": []
    },
    {
      "cell_type": "code",
      "metadata": {
        "colab_type": "code",
        "id": "BF_kr3qsix3K",
        "colab": {}
      },
      "source": [
        "#Calculamos la métrica del modelo de clasificación: accuracy_score. Con sintaxis de Python fijamos 4 decimales\n",
        "print('El accuracy para mi primero modelo es :{0:.4f}'.format(accuracy_score(y_valid,tree_pred)))"
      ],
      "execution_count": 0,
      "outputs": []
    },
    {
      "cell_type": "markdown",
      "metadata": {
        "colab_type": "text",
        "id": "3PLEoI2Ajmwr"
      },
      "source": [
        "##Optimización de hiperparámetros del Árbol de Clasificación sobre train"
      ]
    },
    {
      "cell_type": "code",
      "metadata": {
        "id": "azobB5KBj_7U",
        "colab_type": "code",
        "colab": {}
      },
      "source": [
        "#Definimos una función que itere valores de 1 a 10 para el nivel de profundidad del árbol\n",
        "for i in range(1,10):\n",
        "    tree_clf = DecisionTreeClassifier(max_depth=i)\n",
        "    tree_clf.fit(x_train,y_train)\n",
        "    y_pred = tree_clf.predict(x_valid)\n",
        "    print(\"Mi arbol da un accuracy de:\", accuracy_score(y_valid,y_pred), \"cuando su max_depth es: \", i)"
      ],
      "execution_count": 0,
      "outputs": []
    },
    {
      "cell_type": "markdown",
      "metadata": {
        "id": "_YjbwA8dlOUI",
        "colab_type": "text"
      },
      "source": [
        "Una vez ejecutada la función podemos visualizar que con **tres niveles de profundidad** se obtiene el **más alto accuracy**\n",
        "\n",
        "Ahora vamos a **actualizar el modelo** utilizando el **parámetro max_depth**"
      ]
    },
    {
      "cell_type": "code",
      "metadata": {
        "id": "dLSRqL6hk2lc",
        "colab_type": "code",
        "colab": {}
      },
      "source": [
        "#Actualizamos el modelo tree_clf ingresando un nuevo parámetro: max_depth=3\n",
        "tree_clf = DecisionTreeClassifier(max_depth=3)\n",
        "tree_clf.fit(x_train,y_train)\n",
        "tree_pred = tree_clf.predict(x_valid)"
      ],
      "execution_count": 0,
      "outputs": []
    },
    {
      "cell_type": "markdown",
      "metadata": {
        "colab_type": "text",
        "id": "CmbmE0k-88Pg"
      },
      "source": [
        "##Aplicando el modelo de Random Forest sobre train"
      ]
    },
    {
      "cell_type": "code",
      "metadata": {
        "colab_type": "code",
        "id": "q0OeEbou9G7v",
        "colab": {}
      },
      "source": [
        "#Importamos el modelo RandomForestClassifier de la librería ensamble y lo almacenamos en la variable rnd_clf\n",
        "from sklearn.ensemble import RandomForestClassifier\n",
        "rnd_clf = RandomForestClassifier(n_estimators = 1000, n_jobs = -1,max_depth=3)"
      ],
      "execution_count": 0,
      "outputs": []
    },
    {
      "cell_type": "code",
      "metadata": {
        "colab_type": "code",
        "id": "YqvUaEbN9ks8",
        "colab": {}
      },
      "source": [
        "#Entrenamos el modelo con la variables predictoras (x_train) y el target (y_train)\n",
        "rnd_clf.fit(x_train, y_train)"
      ],
      "execution_count": 0,
      "outputs": []
    },
    {
      "cell_type": "code",
      "metadata": {
        "id": "YvigHcgK9tO0",
        "colab_type": "code",
        "colab": {}
      },
      "source": [
        "#Obtenemos las predicciones utilizando nuestro modelo entrenado con las variables predictoras (x_valid)\n",
        "rnd_pred = tree_clf.predict(x_valid)\n",
        "rnd_pred"
      ],
      "execution_count": 0,
      "outputs": []
    },
    {
      "cell_type": "code",
      "metadata": {
        "colab_type": "code",
        "id": "aXwOGZrhADsD",
        "colab": {}
      },
      "source": [
        "#Calculamos la métrica del modelo de clasificación: accuracy_score. Con sintaxis de Python fijamos 4 decimales\n",
        "print('El accuracy para mi primero modelo es :{0:.4f}'.format(accuracy_score(y_valid,rnd_pred)))"
      ],
      "execution_count": 0,
      "outputs": []
    },
    {
      "cell_type": "markdown",
      "metadata": {
        "colab_type": "text",
        "id": "xuUMkFVEAu0A"
      },
      "source": [
        "##Importancia de variables del Random Forest"
      ]
    },
    {
      "cell_type": "code",
      "metadata": {
        "id": "2WoFR80LAVVL",
        "colab_type": "code",
        "colab": {}
      },
      "source": [
        "import numpy as np\n",
        "importances = rnd_clf.feature_importances_\n",
        "cols = x_train.columns\n",
        "plt.figure(figsize=(8,12))\n",
        "indices = np.argsort(importances)\n",
        "plt.title('Feature Importances')\n",
        "plt.barh(range(len(indices)), importances[indices], align = 'center')\n",
        "plt.yticks(range(len(indices)),[cols[i] for i in indices])\n",
        "plt.show()"
      ],
      "execution_count": 0,
      "outputs": []
    }
  ]
}